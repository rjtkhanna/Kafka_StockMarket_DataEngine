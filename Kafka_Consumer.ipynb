{
 "cells": [
  {
   "cell_type": "code",
   "execution_count": 1,
   "id": "f5022c3e",
   "metadata": {},
   "outputs": [],
   "source": [
    "#to install s3 please use the following command\n",
    "#pip install s3fs"
   ]
  },
  {
   "cell_type": "code",
   "execution_count": 2,
   "id": "124458b1",
   "metadata": {},
   "outputs": [],
   "source": [
    "#import all essential packages required for this notebook\n",
    "\n",
    "import pandas as pd\n",
    "from kafka import KafkaConsumer\n",
    "from time import sleep\n",
    "from json import dumps,loads\n",
    "import json\n",
    "from s3fs import S3FileSystem"
   ]
  },
  {
   "cell_type": "code",
   "execution_count": 3,
   "id": "1e9aca32",
   "metadata": {},
   "outputs": [],
   "source": [
    "#create an object for Kafka Consumer\n",
    "\n",
    "consumer = KafkaConsumer(\n",
    "    '<topic name>',\n",
    "     bootstrap_servers=['<Public IP of your EC2 Instance>:9092'], #add your IP here\n",
    "    value_deserializer=lambda x: loads(x.decode('utf-8'))) #deserialize the data from json format"
   ]
  },
  {
   "cell_type": "code",
   "execution_count": 4,
   "id": "1ae28742",
   "metadata": {},
   "outputs": [],
   "source": [
    "#create an object for s3 interaction with bucket\n",
    "\n",
    "s3=S3FileSystem()"
   ]
  },
  {
   "cell_type": "code",
   "execution_count": null,
   "id": "c9b439c7",
   "metadata": {},
   "outputs": [],
   "source": [
    "#append data in json format in s3 bucket \"<s3 bucket name>\" as a json file \"stock_market_i\"\n",
    "#where \"i\" represents the file number which is being created in s3 bucket\n",
    "\n",
    "for count, i in enumerate(consumer):\n",
    "    with s3.open(\"s3://<s3 bucket name>/stock_market_{}.json\".format(count), 'w') as file:\n",
    "        json.dump(i.value, file)"
   ]
  }
 ],
 "metadata": {
  "kernelspec": {
   "display_name": "Python 3",
   "language": "python",
   "name": "python3"
  },
  "language_info": {
   "codemirror_mode": {
    "name": "ipython",
    "version": 3
   },
   "file_extension": ".py",
   "mimetype": "text/x-python",
   "name": "python",
   "nbconvert_exporter": "python",
   "pygments_lexer": "ipython3",
   "version": "3.8.8"
  }
 },
 "nbformat": 4,
 "nbformat_minor": 5
}
